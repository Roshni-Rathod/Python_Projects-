{
 "cells": [
  {
   "cell_type": "markdown",
   "id": "35672f73",
   "metadata": {},
   "source": [
    "# Employee Salary Analysis mini Project "
   ]
  },
  {
   "cell_type": "code",
   "execution_count": 1,
   "id": "1b6f750e",
   "metadata": {},
   "outputs": [],
   "source": [
    "import openpyxl  # librery where excel file will open \n",
    "import pandas as pd \n",
    "\n",
    "workbook = openpyxl.Workbook()\n",
    "sheet = workbook.active\n",
    "\n",
    "data = [\n",
    "    ['NAME', 'DOMAIN', 'AGE','LOCATION', 'SALARY', 'EXP'],\n",
    "    ['ALEX', 'TESTING', 25, 'BNG', 5000, 2],\n",
    "    ['BARB', 'JAVA', 30, 'CHE', 10000, 3],\n",
    "    ['CHERRY', 'C', 35, 'PUNE', 15000, 4],\n",
    "    ['DIPAN', 'DA', 38, 'MIMBAI', 20000, 5],\n",
    "    ['ESWAR', 'DS', 40, 'HYD', 50000, 6]\n",
    "]\n",
    "\n",
    "for row in data:\n",
    "    sheet.append(row)\n",
    "    \n",
    "workbook.save('data.xlsx')\n"
   ]
  },
  {
   "cell_type": "code",
   "execution_count": 2,
   "id": "d1fac339",
   "metadata": {},
   "outputs": [
    {
     "data": {
      "text/plain": [
       "[['NAME', 'DOMAIN', 'AGE', 'LOCATION', 'SALARY', 'EXP'],\n",
       " ['ALEX', 'TESTING', 25, 'BNG', 5000, 2],\n",
       " ['BARB', 'JAVA', 30, 'CHE', 10000, 3],\n",
       " ['CHERRY', 'C', 35, 'PUNE', 15000, 4],\n",
       " ['DIPAN', 'DA', 38, 'MIMBAI', 20000, 5],\n",
       " ['ESWAR', 'DS', 40, 'HYD', 50000, 6]]"
      ]
     },
     "execution_count": 2,
     "metadata": {},
     "output_type": "execute_result"
    }
   ],
   "source": [
    "data           # calling data"
   ]
  },
  {
   "cell_type": "code",
   "execution_count": 3,
   "id": "8854d8ba",
   "metadata": {},
   "outputs": [
    {
     "data": {
      "text/plain": [
       "'C:\\\\Users\\\\ratho\\\\.ipynb_checkpoints'"
      ]
     },
     "execution_count": 3,
     "metadata": {},
     "output_type": "execute_result"
    }
   ],
   "source": [
    "import os    #importing module to check location of excel file\n",
    "os.getcwd()"
   ]
  },
  {
   "cell_type": "code",
   "execution_count": 4,
   "id": "fe7500ba",
   "metadata": {},
   "outputs": [
    {
     "data": {
      "text/html": [
       "<div>\n",
       "<style scoped>\n",
       "    .dataframe tbody tr th:only-of-type {\n",
       "        vertical-align: middle;\n",
       "    }\n",
       "\n",
       "    .dataframe tbody tr th {\n",
       "        vertical-align: top;\n",
       "    }\n",
       "\n",
       "    .dataframe thead th {\n",
       "        text-align: right;\n",
       "    }\n",
       "</style>\n",
       "<table border=\"1\" class=\"dataframe\">\n",
       "  <thead>\n",
       "    <tr style=\"text-align: right;\">\n",
       "      <th></th>\n",
       "      <th>NAME</th>\n",
       "      <th>DOMAIN</th>\n",
       "      <th>AGE</th>\n",
       "      <th>LOCATION</th>\n",
       "      <th>SALARY</th>\n",
       "      <th>EXP</th>\n",
       "    </tr>\n",
       "  </thead>\n",
       "  <tbody>\n",
       "    <tr>\n",
       "      <th>0</th>\n",
       "      <td>ALEX</td>\n",
       "      <td>TESTING</td>\n",
       "      <td>25</td>\n",
       "      <td>BNG</td>\n",
       "      <td>5000</td>\n",
       "      <td>2</td>\n",
       "    </tr>\n",
       "    <tr>\n",
       "      <th>1</th>\n",
       "      <td>BARB</td>\n",
       "      <td>JAVA</td>\n",
       "      <td>30</td>\n",
       "      <td>CHE</td>\n",
       "      <td>10000</td>\n",
       "      <td>3</td>\n",
       "    </tr>\n",
       "    <tr>\n",
       "      <th>2</th>\n",
       "      <td>CHERRY</td>\n",
       "      <td>C</td>\n",
       "      <td>35</td>\n",
       "      <td>PUNE</td>\n",
       "      <td>15000</td>\n",
       "      <td>4</td>\n",
       "    </tr>\n",
       "    <tr>\n",
       "      <th>3</th>\n",
       "      <td>DIPAN</td>\n",
       "      <td>DA</td>\n",
       "      <td>38</td>\n",
       "      <td>MIMBAI</td>\n",
       "      <td>20000</td>\n",
       "      <td>5</td>\n",
       "    </tr>\n",
       "    <tr>\n",
       "      <th>4</th>\n",
       "      <td>ESWAR</td>\n",
       "      <td>DS</td>\n",
       "      <td>40</td>\n",
       "      <td>HYD</td>\n",
       "      <td>50000</td>\n",
       "      <td>6</td>\n",
       "    </tr>\n",
       "  </tbody>\n",
       "</table>\n",
       "</div>"
      ],
      "text/plain": [
       "     NAME   DOMAIN  AGE LOCATION  SALARY  EXP\n",
       "0    ALEX  TESTING   25      BNG    5000    2\n",
       "1    BARB     JAVA   30      CHE   10000    3\n",
       "2  CHERRY        C   35     PUNE   15000    4\n",
       "3   DIPAN       DA   38   MIMBAI   20000    5\n",
       "4   ESWAR       DS   40      HYD   50000    6"
      ]
     },
     "execution_count": 4,
     "metadata": {},
     "output_type": "execute_result"
    }
   ],
   "source": [
    "emp = pd.read_excel(r'C:\\\\Users\\\\ratho\\\\.ipynb_checkpoints\\\\data.xlsx') \n",
    "#   in starting we put 'r' that means raw string (read)\n",
    "#    here we assigning emp varible to excel file and telling python to read it \n",
    "\n",
    "emp"
   ]
  },
  {
   "cell_type": "code",
   "execution_count": 5,
   "id": "a810977b",
   "metadata": {},
   "outputs": [
    {
     "data": {
      "text/plain": [
       "(5, 6)"
      ]
     },
     "execution_count": 5,
     "metadata": {},
     "output_type": "execute_result"
    }
   ],
   "source": [
    "emp.shape   # checking shape of data"
   ]
  },
  {
   "cell_type": "code",
   "execution_count": 6,
   "id": "137f1a24",
   "metadata": {},
   "outputs": [
    {
     "data": {
      "text/plain": [
       "Index(['NAME', 'DOMAIN', 'AGE', 'LOCATION', 'SALARY', 'EXP'], dtype='object')"
      ]
     },
     "execution_count": 6,
     "metadata": {},
     "output_type": "execute_result"
    }
   ],
   "source": [
    "emp.columns"
   ]
  },
  {
   "cell_type": "code",
   "execution_count": 7,
   "id": "4a44ad36",
   "metadata": {},
   "outputs": [
    {
     "data": {
      "text/plain": [
       "6"
      ]
     },
     "execution_count": 7,
     "metadata": {},
     "output_type": "execute_result"
    }
   ],
   "source": [
    "len(emp.columns)  # counting coulmns"
   ]
  },
  {
   "cell_type": "code",
   "execution_count": 8,
   "id": "f10a3468",
   "metadata": {},
   "outputs": [
    {
     "data": {
      "text/plain": [
       "5"
      ]
     },
     "execution_count": 8,
     "metadata": {},
     "output_type": "execute_result"
    }
   ],
   "source": [
    "len(emp) # cheecking length "
   ]
  },
  {
   "cell_type": "code",
   "execution_count": 9,
   "id": "d650799f",
   "metadata": {},
   "outputs": [
    {
     "data": {
      "text/html": [
       "<div>\n",
       "<style scoped>\n",
       "    .dataframe tbody tr th:only-of-type {\n",
       "        vertical-align: middle;\n",
       "    }\n",
       "\n",
       "    .dataframe tbody tr th {\n",
       "        vertical-align: top;\n",
       "    }\n",
       "\n",
       "    .dataframe thead th {\n",
       "        text-align: right;\n",
       "    }\n",
       "</style>\n",
       "<table border=\"1\" class=\"dataframe\">\n",
       "  <thead>\n",
       "    <tr style=\"text-align: right;\">\n",
       "      <th></th>\n",
       "      <th>NAME</th>\n",
       "      <th>DOMAIN</th>\n",
       "      <th>AGE</th>\n",
       "      <th>LOCATION</th>\n",
       "      <th>SALARY</th>\n",
       "      <th>EXP</th>\n",
       "    </tr>\n",
       "  </thead>\n",
       "  <tbody>\n",
       "    <tr>\n",
       "      <th>0</th>\n",
       "      <td>ALEX</td>\n",
       "      <td>TESTING</td>\n",
       "      <td>25</td>\n",
       "      <td>BNG</td>\n",
       "      <td>5000</td>\n",
       "      <td>2</td>\n",
       "    </tr>\n",
       "    <tr>\n",
       "      <th>1</th>\n",
       "      <td>BARB</td>\n",
       "      <td>JAVA</td>\n",
       "      <td>30</td>\n",
       "      <td>CHE</td>\n",
       "      <td>10000</td>\n",
       "      <td>3</td>\n",
       "    </tr>\n",
       "    <tr>\n",
       "      <th>2</th>\n",
       "      <td>CHERRY</td>\n",
       "      <td>C</td>\n",
       "      <td>35</td>\n",
       "      <td>PUNE</td>\n",
       "      <td>15000</td>\n",
       "      <td>4</td>\n",
       "    </tr>\n",
       "    <tr>\n",
       "      <th>3</th>\n",
       "      <td>DIPAN</td>\n",
       "      <td>DA</td>\n",
       "      <td>38</td>\n",
       "      <td>MIMBAI</td>\n",
       "      <td>20000</td>\n",
       "      <td>5</td>\n",
       "    </tr>\n",
       "    <tr>\n",
       "      <th>4</th>\n",
       "      <td>ESWAR</td>\n",
       "      <td>DS</td>\n",
       "      <td>40</td>\n",
       "      <td>HYD</td>\n",
       "      <td>50000</td>\n",
       "      <td>6</td>\n",
       "    </tr>\n",
       "  </tbody>\n",
       "</table>\n",
       "</div>"
      ],
      "text/plain": [
       "     NAME   DOMAIN  AGE LOCATION  SALARY  EXP\n",
       "0    ALEX  TESTING   25      BNG    5000    2\n",
       "1    BARB     JAVA   30      CHE   10000    3\n",
       "2  CHERRY        C   35     PUNE   15000    4\n",
       "3   DIPAN       DA   38   MIMBAI   20000    5\n",
       "4   ESWAR       DS   40      HYD   50000    6"
      ]
     },
     "execution_count": 9,
     "metadata": {},
     "output_type": "execute_result"
    }
   ],
   "source": [
    "emp "
   ]
  },
  {
   "cell_type": "code",
   "execution_count": 10,
   "id": "3bb759d5",
   "metadata": {},
   "outputs": [
    {
     "data": {
      "text/plain": [
       "0     5000\n",
       "1    10000\n",
       "2    15000\n",
       "3    20000\n",
       "4    50000\n",
       "Name: SALARY, dtype: int64"
      ]
     },
     "execution_count": 10,
     "metadata": {},
     "output_type": "execute_result"
    }
   ],
   "source": [
    "emp['SALARY']  # geting salary data"
   ]
  },
  {
   "cell_type": "code",
   "execution_count": 12,
   "id": "2c989320",
   "metadata": {},
   "outputs": [
    {
     "data": {
      "text/html": [
       "<div>\n",
       "<style scoped>\n",
       "    .dataframe tbody tr th:only-of-type {\n",
       "        vertical-align: middle;\n",
       "    }\n",
       "\n",
       "    .dataframe tbody tr th {\n",
       "        vertical-align: top;\n",
       "    }\n",
       "\n",
       "    .dataframe thead th {\n",
       "        text-align: right;\n",
       "    }\n",
       "</style>\n",
       "<table border=\"1\" class=\"dataframe\">\n",
       "  <thead>\n",
       "    <tr style=\"text-align: right;\">\n",
       "      <th></th>\n",
       "      <th>SALARY</th>\n",
       "      <th>EXP</th>\n",
       "    </tr>\n",
       "  </thead>\n",
       "  <tbody>\n",
       "    <tr>\n",
       "      <th>0</th>\n",
       "      <td>5000</td>\n",
       "      <td>2</td>\n",
       "    </tr>\n",
       "    <tr>\n",
       "      <th>1</th>\n",
       "      <td>10000</td>\n",
       "      <td>3</td>\n",
       "    </tr>\n",
       "    <tr>\n",
       "      <th>2</th>\n",
       "      <td>15000</td>\n",
       "      <td>4</td>\n",
       "    </tr>\n",
       "    <tr>\n",
       "      <th>3</th>\n",
       "      <td>20000</td>\n",
       "      <td>5</td>\n",
       "    </tr>\n",
       "    <tr>\n",
       "      <th>4</th>\n",
       "      <td>50000</td>\n",
       "      <td>6</td>\n",
       "    </tr>\n",
       "  </tbody>\n",
       "</table>\n",
       "</div>"
      ],
      "text/plain": [
       "   SALARY  EXP\n",
       "0    5000    2\n",
       "1   10000    3\n",
       "2   15000    4\n",
       "3   20000    5\n",
       "4   50000    6"
      ]
     },
     "execution_count": 12,
     "metadata": {},
     "output_type": "execute_result"
    }
   ],
   "source": [
    "emp[['SALARY','EXP']]   # getting salary and experience data "
   ]
  },
  {
   "cell_type": "code",
   "execution_count": 13,
   "id": "f6eaf268",
   "metadata": {},
   "outputs": [],
   "source": [
    "import numpy as nb                  # nd arrray\n",
    "import matplotlib.pyplot as plt     # for visualization \n",
    "import seaborn as sns               # for stastic visualization "
   ]
  },
  {
   "cell_type": "code",
   "execution_count": 14,
   "id": "7bcff619",
   "metadata": {},
   "outputs": [
    {
     "data": {
      "image/png": "[encoded data removed]",
      "text/plain": [
       "<Figure size 500x500 with 1 Axes>"
      ]
     },
     "metadata": {},
     "output_type": "display_data"
    }
   ],
   "source": [
    "vis1 = sns.displot(emp['SALARY'])   # displot visualization\n",
    "# ploting the graph using one variable is known as uni veriant analysis\n",
    "# ....................... two..................... bi variant analysis\n",
    "#........................ multiple ................ multi varient analysis"
   ]
  },
  {
   "cell_type": "code",
   "execution_count": 15,
   "id": "ad3782f9",
   "metadata": {},
   "outputs": [
    {
     "name": "stderr",
     "output_type": "stream",
     "text": [
      "C:\\Users\\ratho\\AppData\\Local\\Temp\\ipykernel_12940\\826855712.py:1: UserWarning: \n",
      "\n",
      "`distplot` is a deprecated function and will be removed in seaborn v0.14.0.\n",
      "\n",
      "Please adapt your code to use either `displot` (a figure-level function with\n",
      "similar flexibility) or `histplot` (an axes-level function for histograms).\n",
      "\n",
      "For a guide to updating your code to use the new functions, please see\n",
      "https://gist.github.com/mwaskom/de44147ed2974457ad6372750bbe5751\n",
      "\n",
      "  vis2 = sns.distplot(emp['SALARY'])\n"
     ]
    },
    {
     "data": {
      "image/png": "[encoded data removed]",
      "text/plain": [
       "<Figure size 640x480 with 1 Axes>"
      ]
     },
     "metadata": {},
     "output_type": "display_data"
    }
   ],
   "source": [
    "vis2 = sns.distplot(emp['SALARY'])        # distplot visualization"
   ]
  },
  {
   "cell_type": "code",
   "execution_count": 16,
   "id": "e0edc0b6",
   "metadata": {},
   "outputs": [
    {
     "data": {
      "image/png": "[encoded data removed]",
      "text/plain": [
       "<Figure size 640x480 with 1 Axes>"
      ]
     },
     "metadata": {},
     "output_type": "display_data"
    }
   ],
   "source": [
    "vis3 = plt.hist(emp['SALARY'])   # histogram"
   ]
  },
  {
   "cell_type": "code",
   "execution_count": 17,
   "id": "1ae545eb",
   "metadata": {},
   "outputs": [],
   "source": [
    "plt.rcParams['figure.figsize'] = 5,1 \n",
    "\n",
    "# params = parameters    \n",
    "# to change height and width size of graph"
   ]
  },
  {
   "cell_type": "code",
   "execution_count": 18,
   "id": "e533c4de",
   "metadata": {
    "scrolled": true
   },
   "outputs": [
    {
     "data": {
      "image/png": "[encoded data removed]",
      "text/plain": [
       "<Figure size 500x500 with 1 Axes>"
      ]
     },
     "metadata": {},
     "output_type": "display_data"
    }
   ],
   "source": [
    "vis5 = sns.lmplot(data = emp, x = 'EXP', y = 'SALARY')   # lmplot = linear parameter plot "
   ]
  },
  {
   "cell_type": "code",
   "execution_count": 19,
   "id": "d3414019",
   "metadata": {},
   "outputs": [
    {
     "data": {
      "image/png": "[encoded data removed]",
      "text/plain": [
       "<Figure size 500x500 with 1 Axes>"
      ]
     },
     "metadata": {},
     "output_type": "display_data"
    }
   ],
   "source": [
    "vis5 = sns.lmplot(data = emp, x = 'EXP', y = 'SALARY', fit_reg = False) \n",
    "\n",
    "# it will delet the regression line\n",
    "# if you dont want line , keep it false , or if you want to bring back line , make it True"
   ]
  },
  {
   "cell_type": "code",
   "execution_count": null,
   "id": "21e11eaa",
   "metadata": {},
   "outputs": [],
   "source": []
  }
 ],
 "metadata": {
  "kernelspec": {
   "display_name": "Python 3 (ipykernel)",
   "language": "python",
   "name": "python3"
  },
  "language_info": {
   "codemirror_mode": {
    "name": "ipython",
    "version": 3
   },
   "file_extension": ".py",
   "mimetype": "text/x-python",
   "name": "python",
   "nbconvert_exporter": "python",
   "pygments_lexer": "ipython3",
   "version": "3.10.9"
  }
 },
 "nbformat": 4,
 "nbformat_minor": 5
}
